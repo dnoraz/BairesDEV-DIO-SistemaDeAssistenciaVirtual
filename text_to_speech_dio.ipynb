{
  "nbformat": 4,
  "nbformat_minor": 0,
  "metadata": {
    "colab": {
      "provenance": [],
      "authorship_tag": "ABX9TyMhsSypmv/zjNg88KAunYsk",
      "include_colab_link": true
    },
    "kernelspec": {
      "name": "python3",
      "display_name": "Python 3"
    },
    "language_info": {
      "name": "python"
    }
  },
  "cells": [
    {
      "cell_type": "markdown",
      "metadata": {
        "id": "view-in-github",
        "colab_type": "text"
      },
      "source": [
        "<a href=\"https://colab.research.google.com/github/dnoraz/BairesDEV-DIO-SistemaDeAssistenciaVirtual/blob/main/text_to_speech_dio.ipynb\" target=\"_parent\"><img src=\"https://colab.research.google.com/assets/colab-badge.svg\" alt=\"Open In Colab\"/></a>"
      ]
    },
    {
      "cell_type": "code",
      "source": [
        "!pip install gTTS googletrans"
      ],
      "metadata": {
        "id": "U_X4hnCDbxOH"
      },
      "execution_count": null,
      "outputs": []
    },
    {
      "cell_type": "code",
      "execution_count": null,
      "metadata": {
        "id": "7xa4sYzAbtNX"
      },
      "outputs": [],
      "source": [
        "from gtts import gTTS\n",
        "from googletrans import Translator\n",
        "from IPython.display import Audio, display"
      ]
    },
    {
      "cell_type": "markdown",
      "source": [
        "#Converte o texto digitado em áudio na linguagem específica.\n",
        "\n"
      ],
      "metadata": {
        "id": "8eI9sLdDm-Qx"
      }
    },
    {
      "cell_type": "code",
      "source": [
        "def text_to_speech(text, lang):\n",
        "    try:\n",
        "        tts = gTTS(text=text, lang=lang)\n",
        "        tts.save(\"output.mp3\")\n",
        "        display(Audio(\"output.mp3\", autoplay=True))\n",
        "        print(f\"Áudio reproduzido com sucesso na língua {lang} .\")\n",
        "    except Exception as e:\n",
        "        print(f\"Ocorreu um erro: {e}\")\n",
        "\n",
        "def translate_text(text, target_lang):\n",
        "    try:\n",
        "        translator = Translator()\n",
        "        translated = translator.translate(text, dest=target_lang)\n",
        "        return translated.text\n",
        "    except Exception as e:\n",
        "        print(f\"Ocorreu um erro durante a tradução: {e}\")\n",
        "        return text"
      ],
      "metadata": {
        "id": "_NDQcw1ib1ct"
      },
      "execution_count": null,
      "outputs": []
    },
    {
      "cell_type": "markdown",
      "source": [
        "#Seleciona o texto digitado e converte para o Chinês"
      ],
      "metadata": {
        "id": "651JHXT0qcHW"
      }
    },
    {
      "cell_type": "code",
      "source": [
        "text = input(\"Digite o texto que você deseja tranformar em áudio: \")\n",
        "\n",
        "translated_text = translate_text(text, target_lang='zh-CN')\n",
        "text_to_speech(translated_text, lang='zh-CN')\n"
      ],
      "metadata": {
        "id": "ooXma-Nfb23m"
      },
      "execution_count": null,
      "outputs": []
    },
    {
      "cell_type": "markdown",
      "source": [
        "#Seleciona o texto digitado e converte para o Inglês"
      ],
      "metadata": {
        "id": "5XdTYgnWqk6C"
      }
    },
    {
      "cell_type": "code",
      "source": [
        "text = input(\"Digite o texto que você deseja tranformar em áudio: \")\n",
        "\n",
        "translated_text = translate_text(text, target_lang='en')\n",
        "text_to_speech(translated_text, lang='en')"
      ],
      "metadata": {
        "id": "N2IWNYlXb58h"
      },
      "execution_count": null,
      "outputs": []
    },
    {
      "cell_type": "markdown",
      "source": [
        "#Seleciona o texto digitado e converte para o Espanhol"
      ],
      "metadata": {
        "id": "qrmxboDLqnAS"
      }
    },
    {
      "cell_type": "code",
      "source": [
        "text = input(\"Digite o texto que você deseja tranformar em áudio: \")\n",
        "\n",
        "translated_text = translate_text(text, target_lang='es')\n",
        "text_to_speech(translated_text, lang='es')"
      ],
      "metadata": {
        "id": "y_JKHQHMb6Ap"
      },
      "execution_count": null,
      "outputs": []
    }
  ]
}