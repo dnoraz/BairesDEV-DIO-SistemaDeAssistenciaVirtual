{
  "nbformat": 4,
  "nbformat_minor": 0,
  "metadata": {
    "colab": {
      "provenance": [],
      "authorship_tag": "ABX9TyPutNzbQdvOvXFiWwhxmR4m",
      "include_colab_link": true
    },
    "kernelspec": {
      "name": "python3",
      "display_name": "Python 3"
    },
    "language_info": {
      "name": "python"
    }
  },
  "cells": [
    {
      "cell_type": "markdown",
      "metadata": {
        "id": "view-in-github",
        "colab_type": "text"
      },
      "source": [
        "<a href=\"https://colab.research.google.com/github/dnoraz/BairesDEV-DIO-SistemaDeAssistenciaVirtual/blob/main/speech_to_text_DIO.ipynb\" target=\"_parent\"><img src=\"https://colab.research.google.com/assets/colab-badge.svg\" alt=\"Open In Colab\"/></a>"
      ]
    },
    {
      "cell_type": "markdown",
      "source": [
        "O Código não pode ser executado direto do Colab, pelo fato dele não reconhecer o microfone do computador. Execute no Anaconda ou em alguma outra IDE como o VSCode."
      ],
      "metadata": {
        "id": "s8-fc-81_c6_"
      }
    },
    {
      "cell_type": "code",
      "execution_count": null,
      "metadata": {
        "id": "8mLZ2uo5-hur"
      },
      "outputs": [],
      "source": [
        "!pip install SpeechRecognition gTTS playsound wikipedia googlemaps pyttsx3"
      ]
    },
    {
      "cell_type": "code",
      "source": [
        "import speech_recognition as sr\n",
        "from gtts import gTTS\n",
        "import playsound\n",
        "import os\n",
        "import wikipedia\n",
        "import webbrowser\n",
        "import googlemaps\n",
        "from datetime import datetime\n",
        "import pyttsx3"
      ],
      "metadata": {
        "id": "LASnRLIB-oL9"
      },
      "execution_count": null,
      "outputs": []
    },
    {
      "cell_type": "code",
      "source": [
        "# Configurações globais\n",
        "wikipedia.set_lang(\"pt\")  # Define o idioma do Wikipedia para português\n",
        "API_KEY = \"SUA_CHAVE_GOOGLE_MAPS\"  # Substitua pela sua chave da API do Google Maps\n",
        "\n",
        "# Função para transformar fala em texto\n",
        "def ouvir_fala():\n",
        "    recognizer = sr.Recognizer()\n",
        "    with sr.Microphone() as source:\n",
        "        recognizer.adjust_for_ambient_noise(source)\n",
        "        print(\"Estou ouvindo...\")\n",
        "        audio = recognizer.listen(source)\n",
        "    try:\n",
        "        comando = recognizer.recognize_google(audio, language=\"pt-BR\")\n",
        "        print(f\"Você disse: {comando}\")\n",
        "        return comando.lower()\n",
        "    except sr.UnknownValueError:\n",
        "        print(\"Não entendi o que você disse.\")\n",
        "        falar(\"Desculpe, não consegui entender.\")\n",
        "        return \"\"\n",
        "    except sr.RequestError:\n",
        "        print(\"Erro ao acessar o serviço de reconhecimento de fala.\")\n",
        "        falar(\"Serviço indisponível no momento.\")\n",
        "        return \"\"\n",
        "\n",
        "# Função para transformar texto em fala\n",
        "def falar(texto):\n",
        "    engine = pyttsx3.init()\n",
        "    engine.setProperty('rate', 150)  # Ajusta a velocidade da fala\n",
        "    engine.setProperty('volume', 1.0)  # Ajusta o volume\n",
        "    voices = engine.getProperty('voices')\n",
        "    engine.setProperty('voice', voices[0].id)  # Escolhe uma voz\n",
        "    engine.say(texto)\n",
        "    engine.runAndWait()\n",
        "\n",
        "# Função para localizar farmácias próximas\n",
        "def localizar_farmacia():\n",
        "    gmaps = googlemaps.Client(key=API_KEY)\n",
        "    try:\n",
        "        location = gmaps.geolocate()\n",
        "        latitude = location[\"location\"][\"lat\"]\n",
        "        longitude = location[\"location\"][\"lng\"]\n",
        "        farmacias = gmaps.places_nearby(\n",
        "            location=(latitude, longitude), radius=3000, keyword=\"farmácia\"\n",
        "        )\n",
        "        if farmacias[\"results\"]:\n",
        "            falar(\"Aqui estão algumas farmácias próximas:\")\n",
        "            for farmacia in farmacias[\"results\"][:3]:\n",
        "                nome = farmacia[\"name\"]\n",
        "                endereco = farmacia.get(\"vicinity\", \"Endereço não disponível\")\n",
        "                falar(f\"{nome}, localizado em {endereco}.\")\n",
        "        else:\n",
        "            falar(\"Não encontrei farmácias próximas.\")\n",
        "    except Exception as e:\n",
        "        print(f\"Erro: {e}\")\n",
        "        falar(\"Desculpe, não consegui localizar farmácias no momento.\")\n",
        "\n",
        "# Função principal para processar comandos\n",
        "def processar_comando(comando):\n",
        "    if \"youtube\" in comando:\n",
        "        falar(\"O que você quer buscar no YouTube?\")\n",
        "        busca = ouvir_fala()\n",
        "        if busca:\n",
        "            url = f\"https://www.youtube.com/results?search_query={busca}\"\n",
        "            webbrowser.open(url)\n",
        "            falar(f\"Aqui estão os resultados para {busca} no YouTube.\")\n",
        "    elif \"wikipedia\" in comando or \"procure no wikipedia\" in comando or \"pesquisar\" in comando:\n",
        "        falar(\"O que você quer pesquisar no Wikipedia?\")\n",
        "        busca = ouvir_fala()\n",
        "        if busca:\n",
        "            try:\n",
        "                # Pesquisa o termo no Wikipedia\n",
        "                resultado = wikipedia.summary(busca, sentences=2)\n",
        "                falar(f\"Segundo o Wikipedia, {resultado}\")\n",
        "\n",
        "                # Abre o link do Wikipedia no navegador\n",
        "                url = f\"https://pt.wikipedia.org/wiki/{busca.replace(' ', '_')}\"\n",
        "                webbrowser.open(url)\n",
        "                falar(f\"Eu abri o link do Wikipedia para {busca} no navegador.\")\n",
        "            except wikipedia.DisambiguationError:\n",
        "                falar(\"A pesquisa retornou muitos resultados. Seja mais específico.\")\n",
        "            except Exception as e:\n",
        "                print(f\"Erro: {e}\")\n",
        "                falar(\"Desculpe, não consegui encontrar informações sobre isso.\")\n",
        "    elif \"farmácia\" in comando:\n",
        "        localizar_farmacia()\n",
        "    elif \"horas\" in comando or \"que horas são\" in comando:\n",
        "        hora_atual = datetime.now().strftime(\"%H:%M\")\n",
        "        falar(f\"Agora são {hora_atual}.\")\n",
        "    elif \"sair\" in comando:\n",
        "        falar(\"Até mais!\")\n",
        "        exit()\n",
        "    else:\n",
        "        falar(\"Desculpe, não reconheço esse comando.\")\n",
        "\n",
        "# Loop principal\n",
        "if __name__ == \"__main__\":\n",
        "    falar(\"Assistente virtual iniciado. Diga um comando.\")\n",
        "    while True:\n",
        "        comando = ouvir_fala()\n",
        "        if comando:\n",
        "            processar_comando(comando)"
      ],
      "metadata": {
        "id": "kUbrQZsT-qcX"
      },
      "execution_count": null,
      "outputs": []
    }
  ]
}